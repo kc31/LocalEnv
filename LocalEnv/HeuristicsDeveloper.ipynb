{
 "cells": [
  {
   "cell_type": "code",
   "execution_count": 1,
   "metadata": {
    "scrolled": true
   },
   "outputs": [
    {
     "name": "stdout",
     "output_type": "stream",
     "text": [
      "Requirement already satisfied: array2gif in /home/ec2-user/anaconda3/envs/JupyterSystemEnv/lib/python3.6/site-packages (from -r battlesnake_gym/requirements.txt (line 1)) (1.0.4)\n",
      "Requirement already satisfied: mxboard in /home/ec2-user/anaconda3/envs/JupyterSystemEnv/lib/python3.6/site-packages (from -r battlesnake_gym/requirements.txt (line 2)) (0.1.0)\n",
      "Requirement already satisfied: gym in /home/ec2-user/anaconda3/envs/JupyterSystemEnv/lib/python3.6/site-packages (from -r battlesnake_gym/requirements.txt (line 3)) (0.17.2)\n",
      "Requirement already satisfied: numpy in /home/ec2-user/anaconda3/envs/JupyterSystemEnv/lib/python3.6/site-packages (from array2gif->-r battlesnake_gym/requirements.txt (line 1)) (1.18.5)\n",
      "Requirement already satisfied: Pillow in /home/ec2-user/anaconda3/envs/JupyterSystemEnv/lib/python3.6/site-packages (from mxboard->-r battlesnake_gym/requirements.txt (line 2)) (7.2.0)\n",
      "Requirement already satisfied: six in /home/ec2-user/anaconda3/envs/JupyterSystemEnv/lib/python3.6/site-packages (from mxboard->-r battlesnake_gym/requirements.txt (line 2)) (1.15.0)\n",
      "Requirement already satisfied: protobuf>=3.0.0 in /home/ec2-user/anaconda3/envs/JupyterSystemEnv/lib/python3.6/site-packages (from mxboard->-r battlesnake_gym/requirements.txt (line 2)) (3.12.3)\n",
      "Requirement already satisfied: scipy in /home/ec2-user/anaconda3/envs/JupyterSystemEnv/lib/python3.6/site-packages (from gym->-r battlesnake_gym/requirements.txt (line 3)) (1.4.1)\n",
      "Requirement already satisfied: pyglet<=1.5.0,>=1.4.0 in /home/ec2-user/anaconda3/envs/JupyterSystemEnv/lib/python3.6/site-packages (from gym->-r battlesnake_gym/requirements.txt (line 3)) (1.5.0)\n",
      "Requirement already satisfied: cloudpickle<1.4.0,>=1.2.0 in /home/ec2-user/anaconda3/envs/JupyterSystemEnv/lib/python3.6/site-packages (from gym->-r battlesnake_gym/requirements.txt (line 3)) (1.3.0)\n",
      "Requirement already satisfied: setuptools in /home/ec2-user/anaconda3/envs/JupyterSystemEnv/lib/python3.6/site-packages (from protobuf>=3.0.0->mxboard->-r battlesnake_gym/requirements.txt (line 2)) (47.3.1.post20200622)\n",
      "Requirement already satisfied: future in /home/ec2-user/anaconda3/envs/JupyterSystemEnv/lib/python3.6/site-packages (from pyglet<=1.5.0,>=1.4.0->gym->-r battlesnake_gym/requirements.txt (line 3)) (0.18.2)\n",
      "Obtaining file:///home/ec2-user/SageMaker/battlesnake/LocalEnv/battlesnake_gym\n",
      "Installing collected packages: battlesnake-gym\n",
      "  Attempting uninstall: battlesnake-gym\n",
      "    Found existing installation: battlesnake-gym 0.1.dev0\n",
      "    Uninstalling battlesnake-gym-0.1.dev0:\n",
      "      Successfully uninstalled battlesnake-gym-0.1.dev0\n",
      "  Running setup.py develop for battlesnake-gym\n",
      "Successfully installed battlesnake-gym\n",
      "Requirement already up-to-date: tensorflow==2.1.0 in /home/ec2-user/anaconda3/envs/JupyterSystemEnv/lib/python3.6/site-packages (2.1.0)\n",
      "Requirement already satisfied, skipping upgrade: absl-py>=0.7.0 in /home/ec2-user/anaconda3/envs/JupyterSystemEnv/lib/python3.6/site-packages (from tensorflow==2.1.0) (0.9.0)\n",
      "Requirement already satisfied, skipping upgrade: astor>=0.6.0 in /home/ec2-user/anaconda3/envs/JupyterSystemEnv/lib/python3.6/site-packages (from tensorflow==2.1.0) (0.8.1)\n",
      "Requirement already satisfied, skipping upgrade: gast==0.2.2 in /home/ec2-user/anaconda3/envs/JupyterSystemEnv/lib/python3.6/site-packages (from tensorflow==2.1.0) (0.2.2)\n",
      "Requirement already satisfied, skipping upgrade: termcolor>=1.1.0 in /home/ec2-user/anaconda3/envs/JupyterSystemEnv/lib/python3.6/site-packages (from tensorflow==2.1.0) (1.1.0)\n",
      "Requirement already satisfied, skipping upgrade: google-pasta>=0.1.6 in /home/ec2-user/anaconda3/envs/JupyterSystemEnv/lib/python3.6/site-packages (from tensorflow==2.1.0) (0.2.0)\n",
      "Requirement already satisfied, skipping upgrade: wrapt>=1.11.1 in /home/ec2-user/anaconda3/envs/JupyterSystemEnv/lib/python3.6/site-packages (from tensorflow==2.1.0) (1.12.1)\n",
      "Requirement already satisfied, skipping upgrade: grpcio>=1.8.6 in /home/ec2-user/anaconda3/envs/JupyterSystemEnv/lib/python3.6/site-packages (from tensorflow==2.1.0) (1.30.0)\n",
      "Requirement already satisfied, skipping upgrade: keras-applications>=1.0.8 in /home/ec2-user/anaconda3/envs/JupyterSystemEnv/lib/python3.6/site-packages (from tensorflow==2.1.0) (1.0.8)\n",
      "Requirement already satisfied, skipping upgrade: numpy<2.0,>=1.16.0 in /home/ec2-user/anaconda3/envs/JupyterSystemEnv/lib/python3.6/site-packages (from tensorflow==2.1.0) (1.18.5)\n",
      "Requirement already satisfied, skipping upgrade: opt-einsum>=2.3.2 in /home/ec2-user/anaconda3/envs/JupyterSystemEnv/lib/python3.6/site-packages (from tensorflow==2.1.0) (3.2.1)\n",
      "Requirement already satisfied, skipping upgrade: tensorboard<2.2.0,>=2.1.0 in /home/ec2-user/anaconda3/envs/JupyterSystemEnv/lib/python3.6/site-packages (from tensorflow==2.1.0) (2.1.1)\n",
      "Requirement already satisfied, skipping upgrade: protobuf>=3.8.0 in /home/ec2-user/anaconda3/envs/JupyterSystemEnv/lib/python3.6/site-packages (from tensorflow==2.1.0) (3.12.3)\n",
      "Requirement already satisfied, skipping upgrade: tensorflow-estimator<2.2.0,>=2.1.0rc0 in /home/ec2-user/anaconda3/envs/JupyterSystemEnv/lib/python3.6/site-packages (from tensorflow==2.1.0) (2.1.0)\n",
      "Requirement already satisfied, skipping upgrade: wheel>=0.26; python_version >= \"3\" in /home/ec2-user/anaconda3/envs/JupyterSystemEnv/lib/python3.6/site-packages (from tensorflow==2.1.0) (0.34.2)\n",
      "Requirement already satisfied, skipping upgrade: keras-preprocessing>=1.1.0 in /home/ec2-user/anaconda3/envs/JupyterSystemEnv/lib/python3.6/site-packages (from tensorflow==2.1.0) (1.1.2)\n",
      "Requirement already satisfied, skipping upgrade: scipy==1.4.1; python_version >= \"3\" in /home/ec2-user/anaconda3/envs/JupyterSystemEnv/lib/python3.6/site-packages (from tensorflow==2.1.0) (1.4.1)\n",
      "Requirement already satisfied, skipping upgrade: six>=1.12.0 in /home/ec2-user/anaconda3/envs/JupyterSystemEnv/lib/python3.6/site-packages (from tensorflow==2.1.0) (1.15.0)\n",
      "Requirement already satisfied, skipping upgrade: h5py in /home/ec2-user/anaconda3/envs/JupyterSystemEnv/lib/python3.6/site-packages (from keras-applications>=1.0.8->tensorflow==2.1.0) (2.10.0)\n",
      "Requirement already satisfied, skipping upgrade: google-auth-oauthlib<0.5,>=0.4.1 in /home/ec2-user/anaconda3/envs/JupyterSystemEnv/lib/python3.6/site-packages (from tensorboard<2.2.0,>=2.1.0->tensorflow==2.1.0) (0.4.1)\n",
      "Requirement already satisfied, skipping upgrade: google-auth<2,>=1.6.3 in /home/ec2-user/anaconda3/envs/JupyterSystemEnv/lib/python3.6/site-packages (from tensorboard<2.2.0,>=2.1.0->tensorflow==2.1.0) (1.19.2)\n",
      "Requirement already satisfied, skipping upgrade: markdown>=2.6.8 in /home/ec2-user/anaconda3/envs/JupyterSystemEnv/lib/python3.6/site-packages (from tensorboard<2.2.0,>=2.1.0->tensorflow==2.1.0) (3.2.2)\n",
      "Requirement already satisfied, skipping upgrade: werkzeug>=0.11.15 in /home/ec2-user/anaconda3/envs/JupyterSystemEnv/lib/python3.6/site-packages (from tensorboard<2.2.0,>=2.1.0->tensorflow==2.1.0) (1.0.1)\n",
      "Requirement already satisfied, skipping upgrade: setuptools>=41.0.0 in /home/ec2-user/anaconda3/envs/JupyterSystemEnv/lib/python3.6/site-packages (from tensorboard<2.2.0,>=2.1.0->tensorflow==2.1.0) (47.3.1.post20200622)\n",
      "Requirement already satisfied, skipping upgrade: requests<3,>=2.21.0 in /home/ec2-user/anaconda3/envs/JupyterSystemEnv/lib/python3.6/site-packages (from tensorboard<2.2.0,>=2.1.0->tensorflow==2.1.0) (2.24.0)\n",
      "Requirement already satisfied, skipping upgrade: requests-oauthlib>=0.7.0 in /home/ec2-user/anaconda3/envs/JupyterSystemEnv/lib/python3.6/site-packages (from google-auth-oauthlib<0.5,>=0.4.1->tensorboard<2.2.0,>=2.1.0->tensorflow==2.1.0) (1.3.0)\n",
      "Requirement already satisfied, skipping upgrade: cachetools<5.0,>=2.0.0 in /home/ec2-user/anaconda3/envs/JupyterSystemEnv/lib/python3.6/site-packages (from google-auth<2,>=1.6.3->tensorboard<2.2.0,>=2.1.0->tensorflow==2.1.0) (4.1.1)\n",
      "Requirement already satisfied, skipping upgrade: rsa<5,>=3.1.4; python_version >= \"3\" in /home/ec2-user/anaconda3/envs/JupyterSystemEnv/lib/python3.6/site-packages (from google-auth<2,>=1.6.3->tensorboard<2.2.0,>=2.1.0->tensorflow==2.1.0) (3.4.2)\n",
      "Requirement already satisfied, skipping upgrade: pyasn1-modules>=0.2.1 in /home/ec2-user/anaconda3/envs/JupyterSystemEnv/lib/python3.6/site-packages (from google-auth<2,>=1.6.3->tensorboard<2.2.0,>=2.1.0->tensorflow==2.1.0) (0.2.8)\n",
      "Requirement already satisfied, skipping upgrade: importlib-metadata; python_version < \"3.8\" in /home/ec2-user/anaconda3/envs/JupyterSystemEnv/lib/python3.6/site-packages (from markdown>=2.6.8->tensorboard<2.2.0,>=2.1.0->tensorflow==2.1.0) (1.7.0)\n"
     ]
    },
    {
     "name": "stdout",
     "output_type": "stream",
     "text": [
      "Requirement already satisfied, skipping upgrade: certifi>=2017.4.17 in /home/ec2-user/anaconda3/envs/JupyterSystemEnv/lib/python3.6/site-packages (from requests<3,>=2.21.0->tensorboard<2.2.0,>=2.1.0->tensorflow==2.1.0) (2020.6.20)\r\n",
      "Requirement already satisfied, skipping upgrade: chardet<4,>=3.0.2 in /home/ec2-user/anaconda3/envs/JupyterSystemEnv/lib/python3.6/site-packages (from requests<3,>=2.21.0->tensorboard<2.2.0,>=2.1.0->tensorflow==2.1.0) (3.0.4)\r\n",
      "Requirement already satisfied, skipping upgrade: idna<3,>=2.5 in /home/ec2-user/anaconda3/envs/JupyterSystemEnv/lib/python3.6/site-packages (from requests<3,>=2.21.0->tensorboard<2.2.0,>=2.1.0->tensorflow==2.1.0) (2.10)\r\n",
      "Requirement already satisfied, skipping upgrade: urllib3!=1.25.0,!=1.25.1,<1.26,>=1.21.1 in /home/ec2-user/anaconda3/envs/JupyterSystemEnv/lib/python3.6/site-packages (from requests<3,>=2.21.0->tensorboard<2.2.0,>=2.1.0->tensorflow==2.1.0) (1.22)\r\n",
      "Requirement already satisfied, skipping upgrade: oauthlib>=3.0.0 in /home/ec2-user/anaconda3/envs/JupyterSystemEnv/lib/python3.6/site-packages (from requests-oauthlib>=0.7.0->google-auth-oauthlib<0.5,>=0.4.1->tensorboard<2.2.0,>=2.1.0->tensorflow==2.1.0) (3.1.0)\r\n",
      "Requirement already satisfied, skipping upgrade: pyasn1>=0.1.3 in /home/ec2-user/anaconda3/envs/JupyterSystemEnv/lib/python3.6/site-packages (from rsa<5,>=3.1.4; python_version >= \"3\"->google-auth<2,>=1.6.3->tensorboard<2.2.0,>=2.1.0->tensorflow==2.1.0) (0.4.8)\r\n",
      "Requirement already satisfied, skipping upgrade: zipp>=0.5 in /home/ec2-user/anaconda3/envs/JupyterSystemEnv/lib/python3.6/site-packages (from importlib-metadata; python_version < \"3.8\"->markdown>=2.6.8->tensorboard<2.2.0,>=2.1.0->tensorflow==2.1.0) (3.1.0)\r\n"
     ]
    }
   ],
   "source": [
    "!pip install -r battlesnake_gym/requirements.txt\n",
    "!pip install -e battlesnake_gym\n",
    "!pip install -U tensorflow==2.1.0"
   ]
  },
  {
   "cell_type": "markdown",
   "metadata": {},
   "source": [
    "Please restart the kernel if you've installed the packages in the previous cell"
   ]
  },
  {
   "cell_type": "code",
   "execution_count": 2,
   "metadata": {},
   "outputs": [],
   "source": [
    "from io import BytesIO\n",
    "import time\n",
    "import sys\n",
    "import json\n",
    "import boto3\n",
    "import PIL.Image\n",
    "import sagemaker\n",
    "\n",
    "import numpy\n",
    "import gym\n",
    "from gym import wrappers\n",
    "import numpy as np\n",
    "import matplotlib.pyplot as plt\n",
    "import tensorflow as tf\n",
    "%matplotlib inline\n",
    "from importlib import reload\n",
    "from IPython import display\n",
    "import ipywidgets as widgets\n",
    "from IPython.display import display as i_display\n",
    "\n",
    "from heuristics_utils import simulate\n",
    "from battlesnake_gym.snake_gym import BattlesnakeGym"
   ]
  },
  {
   "cell_type": "markdown",
   "metadata": {},
   "source": [
    "# Define the openAI gym\n",
    "Optionally, you can define the initial game state (the situation simulator) of the snakes and food.\n",
    "To use the initial state, set `USE_INITIAL_STATE = True` and enter the desired coordinates of the snake and food using the initial_state dictionary. The dictionary follows the same format as the battlesnake API."
   ]
  },
  {
   "cell_type": "code",
   "execution_count": 3,
   "metadata": {},
   "outputs": [],
   "source": [
    "USE_INITIAL_STATE = True\n",
    "\n",
    "# Sample initial state for the situation simulator\n",
    "initial_state = {\n",
    "    \"turn\": 4,\n",
    "    \"board\": {\n",
    "        \"height\": 11,\n",
    "        \"width\": 11,\n",
    "        \"food\": [\n",
    "            {\n",
    "                \"x\": 1,\n",
    "                \"y\": 3\n",
    "            }\n",
    "        ],\n",
    "        \"snakes\": [{\n",
    "                        \"health\": 90,\n",
    "                        \"body\": [{\"x\": 8, \"y\": 5}, {\"x\": 9, \"y\":5}],\n",
    "                    }, \n",
    "                    {\n",
    "                        \"health\": 90,\n",
    "                        \"body\": [{\"x\": 1, \"y\": 6}],\n",
    "                    },\n",
    "                    {\n",
    "                        \"health\": 90,\n",
    "                        \"body\": [{\"x\": 3, \"y\": 3}],\n",
    "                    },\n",
    "                    {\n",
    "                        \"health\": 90,\n",
    "                        \"body\": [{\"x\": 6, \"y\": 4}],\n",
    "                    }\n",
    "                  ]\n",
    "\n",
    "    }\n",
    "}\n",
    "\n",
    "if USE_INITIAL_STATE == False:\n",
    "    initial_state = None"
   ]
  },
  {
   "cell_type": "markdown",
   "metadata": {},
   "source": [
    "The parameters here must match the ones provided during training (except initial_state)"
   ]
  },
  {
   "cell_type": "code",
   "execution_count": 4,
   "metadata": {},
   "outputs": [],
   "source": [
    "map_size = (11, 11)\n",
    "number_of_snakes = 4\n",
    "env = BattlesnakeGym(map_size=map_size, number_of_snakes=number_of_snakes, observation_type=\"max-bordered-51s\", \n",
    "                     initial_game_state=initial_state)"
   ]
  },
  {
   "cell_type": "markdown",
   "metadata": {},
   "source": [
    "# Load the trained model\n",
    "Load the RLlib models."
   ]
  },
  {
   "cell_type": "code",
   "execution_count": 5,
   "metadata": {
    "scrolled": true
   },
   "outputs": [
    {
     "name": "stdout",
     "output_type": "stream",
     "text": [
      "/home/ec2-user/SageMaker/battlesnake/LocalEnv/rllib_inference\n",
      "mkdir: cannot create directory ‘output’: File exists\n",
      "1/\n",
      "1/saved_model.pb\n",
      "1/variables/\n",
      "1/variables/variables.data-00000-of-00002\n",
      "1/variables/variables.data-00001-of-00002\n",
      "1/variables/variables.index\n",
      "checkpoint.tune_metadata\n",
      "params.json\n",
      "checkpoint\n",
      "/home/ec2-user/SageMaker/battlesnake/LocalEnv\n"
     ]
    }
   ],
   "source": [
    "%cd rllib_inference\n",
    "!mkdir output\n",
    "!tar -C output -xvf model.tar.gz\n",
    "%cd .."
   ]
  },
  {
   "cell_type": "code",
   "execution_count": 6,
   "metadata": {
    "scrolled": true
   },
   "outputs": [
    {
     "name": "stdout",
     "output_type": "stream",
     "text": [
      "WARNING:tensorflow:From /home/ec2-user/anaconda3/envs/JupyterSystemEnv/lib/python3.6/site-packages/tensorflow_core/python/ops/resource_variable_ops.py:1786: calling BaseResourceVariable.__init__ (from tensorflow.python.ops.resource_variable_ops) with constraint is deprecated and will be removed in a future version.\n",
      "Instructions for updating:\n",
      "If using Keras pass *_constraint arguments to layers.\n",
      "WARNING:tensorflow:Unable to create a python object for variable <tf.Variable 'policy_0/kl_coeff:0' shape=() dtype=float32_ref> because it is a reference variable. It may not be visible to training APIs. If this is a problem, consider rebuilding the SavedModel after running tf.compat.v1.enable_resource_variables().\n",
      "WARNING:tensorflow:Unable to create a python object for variable <tf.Variable 'policy_0/entropy_coeff:0' shape=() dtype=float32_ref> because it is a reference variable. It may not be visible to training APIs. If this is a problem, consider rebuilding the SavedModel after running tf.compat.v1.enable_resource_variables().\n",
      "WARNING:tensorflow:Unable to create a python object for variable <tf.Variable 'policy_0/lr:0' shape=() dtype=float32_ref> because it is a reference variable. It may not be visible to training APIs. If this is a problem, consider rebuilding the SavedModel after running tf.compat.v1.enable_resource_variables().\n",
      "WARNING:tensorflow:Unable to create a python object for variable <tf.Variable 'policy_0/global_step:0' shape=() dtype=int64_ref> because it is a reference variable. It may not be visible to training APIs. If this is a problem, consider rebuilding the SavedModel after running tf.compat.v1.enable_resource_variables().\n",
      "WARNING:tensorflow:Unable to create a python object for variable <tf.Variable 'policy_1/kl_coeff:0' shape=() dtype=float32_ref> because it is a reference variable. It may not be visible to training APIs. If this is a problem, consider rebuilding the SavedModel after running tf.compat.v1.enable_resource_variables().\n",
      "WARNING:tensorflow:Unable to create a python object for variable <tf.Variable 'policy_0/kl_coeff:0' shape=() dtype=float32_ref> because it is a reference variable. It may not be visible to training APIs. If this is a problem, consider rebuilding the SavedModel after running tf.compat.v1.enable_resource_variables().\n",
      "WARNING:tensorflow:Unable to create a python object for variable <tf.Variable 'policy_0/entropy_coeff:0' shape=() dtype=float32_ref> because it is a reference variable. It may not be visible to training APIs. If this is a problem, consider rebuilding the SavedModel after running tf.compat.v1.enable_resource_variables().\n",
      "WARNING:tensorflow:Unable to create a python object for variable <tf.Variable 'policy_0/lr:0' shape=() dtype=float32_ref> because it is a reference variable. It may not be visible to training APIs. If this is a problem, consider rebuilding the SavedModel after running tf.compat.v1.enable_resource_variables().\n",
      "WARNING:tensorflow:Unable to create a python object for variable <tf.Variable 'policy_0/global_step:0' shape=() dtype=int64_ref> because it is a reference variable. It may not be visible to training APIs. If this is a problem, consider rebuilding the SavedModel after running tf.compat.v1.enable_resource_variables().\n",
      "WARNING:tensorflow:Unable to create a python object for variable <tf.Variable 'policy_1/kl_coeff:0' shape=() dtype=float32_ref> because it is a reference variable. It may not be visible to training APIs. If this is a problem, consider rebuilding the SavedModel after running tf.compat.v1.enable_resource_variables().\n",
      "WARNING:tensorflow:Unable to create a python object for variable <tf.Variable 'policy_0/kl_coeff:0' shape=() dtype=float32_ref> because it is a reference variable. It may not be visible to training APIs. If this is a problem, consider rebuilding the SavedModel after running tf.compat.v1.enable_resource_variables().\n",
      "WARNING:tensorflow:Unable to create a python object for variable <tf.Variable 'policy_0/entropy_coeff:0' shape=() dtype=float32_ref> because it is a reference variable. It may not be visible to training APIs. If this is a problem, consider rebuilding the SavedModel after running tf.compat.v1.enable_resource_variables().\n",
      "WARNING:tensorflow:Unable to create a python object for variable <tf.Variable 'policy_0/lr:0' shape=() dtype=float32_ref> because it is a reference variable. It may not be visible to training APIs. If this is a problem, consider rebuilding the SavedModel after running tf.compat.v1.enable_resource_variables().\n",
      "WARNING:tensorflow:Unable to create a python object for variable <tf.Variable 'policy_0/global_step:0' shape=() dtype=int64_ref> because it is a reference variable. It may not be visible to training APIs. If this is a problem, consider rebuilding the SavedModel after running tf.compat.v1.enable_resource_variables().\n",
      "WARNING:tensorflow:Unable to create a python object for variable <tf.Variable 'policy_1/kl_coeff:0' shape=() dtype=float32_ref> because it is a reference variable. It may not be visible to training APIs. If this is a problem, consider rebuilding the SavedModel after running tf.compat.v1.enable_resource_variables().\n",
      "WARNING:tensorflow:Unable to create a python object for variable <tf.Variable 'policy_0/kl_coeff:0' shape=() dtype=float32_ref> because it is a reference variable. It may not be visible to training APIs. If this is a problem, consider rebuilding the SavedModel after running tf.compat.v1.enable_resource_variables().\n",
      "WARNING:tensorflow:Unable to create a python object for variable <tf.Variable 'policy_0/entropy_coeff:0' shape=() dtype=float32_ref> because it is a reference variable. It may not be visible to training APIs. If this is a problem, consider rebuilding the SavedModel after running tf.compat.v1.enable_resource_variables().\n",
      "WARNING:tensorflow:Unable to create a python object for variable <tf.Variable 'policy_0/lr:0' shape=() dtype=float32_ref> because it is a reference variable. It may not be visible to training APIs. If this is a problem, consider rebuilding the SavedModel after running tf.compat.v1.enable_resource_variables().\n",
      "WARNING:tensorflow:Unable to create a python object for variable <tf.Variable 'policy_0/global_step:0' shape=() dtype=int64_ref> because it is a reference variable. It may not be visible to training APIs. If this is a problem, consider rebuilding the SavedModel after running tf.compat.v1.enable_resource_variables().\n",
      "WARNING:tensorflow:Unable to create a python object for variable <tf.Variable 'policy_1/kl_coeff:0' shape=() dtype=float32_ref> because it is a reference variable. It may not be visible to training APIs. If this is a problem, consider rebuilding the SavedModel after running tf.compat.v1.enable_resource_variables().\n"
     ]
    }
   ],
   "source": [
    "model_filepath = \"rllib_inference/output/1/\"\n",
    "\n",
    "imported = tf.saved_model.load(model_filepath)\n",
    "net = imported.signatures[\"serving_default\"]"
   ]
  },
  {
   "cell_type": "markdown",
   "metadata": {},
   "source": [
    "# Simulation loop\n",
    "\n",
    "Run a simulation with the environment with the heuritics that you wrote. \n",
    "To edit the heuristics, edit the file `LocalEnv/rllib_inference/src/battlesnake_heuristics`.\n",
    "Note that you can track the progress of your work with git."
   ]
  },
  {
   "cell_type": "markdown",
   "metadata": {},
   "source": [
    "If you want to change the Snake behavior, update MyBattlesnakeHeuristics (source in LocalEnv/rllib_inference/battlesnake_heuristics.py) before running the next cell."
   ]
  },
  {
   "cell_type": "code",
   "execution_count": 9,
   "metadata": {},
   "outputs": [
    {
     "name": "stdout",
     "output_type": "stream",
     "text": [
      "Completed\n"
     ]
    }
   ],
   "source": [
    "import rllib_inference.src.battlesnake_heuristics\n",
    "reload(rllib_inference.src.battlesnake_heuristics)\n",
    "from rllib_inference.src.battlesnake_heuristics import MyBattlesnakeHeuristics\n",
    "\n",
    "heuristics = MyBattlesnakeHeuristics()\n",
    "infos, rgb_arrays, actions, heuristics_remarks, json_array = simulate(env, net, heuristics, number_of_snakes)"
   ]
  },
  {
   "cell_type": "markdown",
   "metadata": {},
   "source": [
    "# Playback the simulation\n",
    "\n",
    "Defines the user interface of the simulator."
   ]
  },
  {
   "cell_type": "code",
   "execution_count": 10,
   "metadata": {},
   "outputs": [
    {
     "data": {
      "application/vnd.jupyter.widget-view+json": {
       "model_id": "b0b0aa5508f1426aa0fffbbeec49d033",
       "version_major": 2,
       "version_minor": 0
      },
      "text/plain": [
       "HBox(children=(Button(description='◄', style=ButtonStyle()), Button(description='►', style=ButtonStyle()), Int…"
      ]
     },
     "metadata": {},
     "output_type": "display_data"
    },
    {
     "data": {
      "application/vnd.jupyter.widget-view+json": {
       "model_id": "4100050b338e4afcb9c9bd486de201a9",
       "version_major": 2,
       "version_minor": 0
      },
      "text/plain": [
       "HBox(children=(Image(value=b\"\\x89PNG\\r\\n\\x1a\\n\\x00\\x00\\x00\\rIHDR\\x00\\x00\\x02N\\x00\\x00\\x02N\\x08\\x02\\x00\\x00\\x00…"
      ]
     },
     "metadata": {},
     "output_type": "display_data"
    }
   ],
   "source": [
    "def get_env_json():\n",
    "    if slider.value < len(json_array):\n",
    "        return json_array[slider.value]\n",
    "    else:\n",
    "        return \"\"\n",
    "    \n",
    "def play_simulation(_):\n",
    "    for i in range(slider.value, len(rgb_arrays) - slider.value - 1):\n",
    "        slider.value = slider.value + 1\n",
    "        display_image(slider.value)\n",
    "        time.sleep(0.2)\n",
    "\n",
    "def on_left_button_pressed(_):\n",
    "    if slider.value > 0:\n",
    "        slider.value = slider.value - 1 \n",
    "    display_image(slider.value)\n",
    "\n",
    "def on_right_button_pressed(_):\n",
    "    if slider.value < len(rgb_arrays):\n",
    "        slider.value = slider.value + 1 \n",
    "    display_image(slider.value)\n",
    "        \n",
    "def display_image(index):  \n",
    "    if index >= len(rgb_arrays):\n",
    "        return\n",
    "    info = infos[index]\n",
    "    action = actions[index]\n",
    "    heuristics = heuristics_remarks[index]\n",
    "    snake_colours = env.snakes.get_snake_colours()\n",
    "        \n",
    "    line_0 = [widgets.Label(\"Turn count\".format(info[\"current_turn\"])),\n",
    "                 widgets.Label(\"Snake\")]\n",
    "    \n",
    "    line_1 = [widgets.Label(\"\"), widgets.Label(\"Health\")]\n",
    "    \n",
    "    line_2 = [widgets.Label(\"{}\".format(info[\"current_turn\"])), \n",
    "              widgets.Label(\"Action\")]\n",
    "    \n",
    "    line_3 = [widgets.Label(\"\"), widgets.Label(\"Gym remarks\")]\n",
    "    \n",
    "    line_4 = [widgets.Label(\"\"), widgets.Label(\"Heur. remarks\")]\n",
    "\n",
    "    action_convertion_dict = {0: \"Up\", 1: \"Down\", 2: \"Left\", 3: \"Right\", 4: \"None\"}\n",
    "    for snake_id in range(number_of_snakes):\n",
    "        snake_health = \"{}\".format(info[\"snake_health\"][snake_id])\n",
    "        snake_health_widget = widgets.Label(snake_health)\n",
    "        snake_action = \"{}\".format(action_convertion_dict[action[snake_id]])\n",
    "        snake_action_widget = widgets.Label(snake_action)\n",
    "\n",
    "        snake_colour = snake_colours[snake_id]\n",
    "        hex_colour = '#%02x%02x%02x' % (snake_colour[0], snake_colour[1], snake_colour[2])\n",
    "        snake_colour_widget = widgets.HTML(value = f\"<b><font color=\"+hex_colour+\">⬤</b>\")\n",
    "\n",
    "        gym_remarks = \"\"\n",
    "        if snake_id in info[\"snake_info\"]:\n",
    "            if info[\"snake_info\"][snake_id] != \"Did not colide\": \n",
    "                gym_remarks = \"{}\".format(info[\"snake_info\"][snake_id])\n",
    "        gym_remarks_widget = widgets.Label(gym_remarks)\n",
    "        \n",
    "        heuris_remarks = \"{}\".format(heuristics[snake_id])\n",
    "        heuris_remarks_widget = widgets.Label(heuris_remarks)\n",
    "\n",
    "        line_0.append(snake_colour_widget)\n",
    "        line_1.append(snake_health_widget)\n",
    "        line_2.append(snake_action_widget)\n",
    "        line_3.append(gym_remarks_widget)\n",
    "        line_4.append(heuris_remarks_widget)\n",
    "\n",
    "    line_0_widget = widgets.VBox(line_0)\n",
    "    line_1_widget= widgets.VBox(line_1)\n",
    "    line_2_widget = widgets.VBox(line_2)\n",
    "    line_3_widget = widgets.VBox(line_3)\n",
    "    line_4_widget = widgets.VBox(line_4)\n",
    "   \n",
    "    info_widget = widgets.HBox([line_0_widget, line_1_widget, line_2_widget, line_3_widget, line_4_widget])\n",
    "        \n",
    "    image = PIL.Image.fromarray(rgb_arrays[index])\n",
    "    f = BytesIO()\n",
    "    image.save(f, \"png\")\n",
    "    \n",
    "    states_widget = widgets.Image(value=f.getvalue(), width=500)\n",
    "    main_widgets_list = [states_widget, info_widget]\n",
    "    \n",
    "    main_widget = widgets.HBox(main_widgets_list)\n",
    "    \n",
    "    display.clear_output(wait=True)\n",
    "    i_display(navigator)\n",
    "    i_display(main_widget)\n",
    "    \n",
    "left_button = widgets.Button(description='◄')\n",
    "left_button.on_click(on_left_button_pressed)\n",
    "right_button = widgets.Button(description='►')\n",
    "right_button.on_click(on_right_button_pressed)\n",
    "slider = widgets.IntSlider(max=len(rgb_arrays) - 1)\n",
    "play_button = widgets.Button(description='Play')\n",
    "play_button.on_click(play_simulation)\n",
    "\n",
    "navigator = widgets.HBox([left_button, right_button, slider, play_button])\n",
    "display_image(index=0)"
   ]
  },
  {
   "cell_type": "markdown",
   "metadata": {},
   "source": [
    "To get a JSON representation of the gym (environment), run the following function. You can also use output of the following function as an initial_state of the gym.\n",
    "\n",
    "*Please provide this json array if you are reporting bugs in the gym*"
   ]
  },
  {
   "cell_type": "code",
   "execution_count": null,
   "metadata": {},
   "outputs": [],
   "source": [
    "get_env_json()"
   ]
  },
  {
   "cell_type": "markdown",
   "metadata": {},
   "source": [
    "# Deploy the SageMaker endpoint\n",
    "This section will deploy your new heuristics into the SageMaker endpoint"
   ]
  },
  {
   "cell_type": "code",
   "execution_count": null,
   "metadata": {},
   "outputs": [],
   "source": [
    "sage_session = sagemaker.session.Session()\n",
    "s3_bucket = sage_session.default_bucket()\n",
    "role = sagemaker.get_execution_role()\n",
    "endpoint_instance_type = \"ml.m4.xlarge\"\n",
    "print(\"Your sagemaker s3_bucket is s3://{}\".format(s3_bucket))\n",
    "\n",
    "model_data = \"s3://{}/battlesnake-aws/pretrainedmodels/model.tar.gz\".format(s3_bucket)"
   ]
  },
  {
   "cell_type": "markdown",
   "metadata": {},
   "source": [
    "## Deploy your new heuristics\n",
    "Using the new heuristics you developed, a new SageMaker endpoint will be created.\n",
    "\n",
    "Firstly, delete the old endpoint, model and endpoint config."
   ]
  },
  {
   "cell_type": "code",
   "execution_count": null,
   "metadata": {},
   "outputs": [],
   "source": [
    "sm_client = boto3.client(service_name='sagemaker')\n",
    "sm_client.delete_endpoint(EndpointName='battlesnake-endpoint')\n",
    "sm_client.delete_endpoint_config(EndpointConfigName='battlesnake-endpoint')\n",
    "sm_client.delete_model(ModelName=\"battlesnake-rllib\")"
   ]
  },
  {
   "cell_type": "markdown",
   "metadata": {},
   "source": [
    "Run the following cells to create a new model and endpoint with the new heuristics"
   ]
  },
  {
   "cell_type": "code",
   "execution_count": null,
   "metadata": {},
   "outputs": [],
   "source": [
    "from sagemaker.tensorflow.serving import Model\n",
    "\n",
    "model = Model(model_data=model_data,\n",
    "              role=role,\n",
    "              entry_point=\"inference.py\",\n",
    "              source_dir='rllib_inference/src',\n",
    "              framework_version='2.1.0',\n",
    "              name=\"battlesnake-rllib\",\n",
    "             )\n",
    "\n",
    "# Deploy an inference endpoint\n",
    "predictor = model.deploy(initial_instance_count=1, instance_type=endpoint_instance_type, endpoint_name='battlesnake-endpoint')"
   ]
  },
  {
   "cell_type": "markdown",
   "metadata": {},
   "source": [
    "## Testing the new endpoint\n",
    "You should see `Action to take is X`"
   ]
  },
  {
   "cell_type": "code",
   "execution_count": null,
   "metadata": {},
   "outputs": [],
   "source": [
    "import numpy as np\n",
    "from time import time\n",
    "\n",
    "data1 = np.zeros(shape=(1, 21, 21, 6), dtype=np.float32).tolist()\n",
    "\n",
    "health_dict = {0: 50, 1: 50}\n",
    "json = {\"turn\": 4,\n",
    "        \"board\": {\n",
    "                \"height\": 15,\n",
    "                \"width\": 15,\n",
    "                \"food\": [],\n",
    "                \"snakes\": []\n",
    "                },\n",
    "            \"you\": {\n",
    "                \"id\": \"snake-id-string\",\n",
    "                \"name\": \"Sneky Snek\",\n",
    "                \"health\": 90,\n",
    "                \"body\": [{\"x\": 1, \"y\": 3}]\n",
    "                }\n",
    "            }\n",
    "\n",
    "before = time()\n",
    "action = predictor.predict({\"state\": data1, \"prev_action\": -1, \n",
    "                           \"prev_reward\": -1, \"seq_lens\": -1,  \n",
    "                           \"all_health\": health_dict, \"json\": json})\n",
    "elapsed = time() - before\n",
    "\n",
    "action_to_take = action[\"outputs\"][\"heuristisc_action\"]\n",
    "print(\"Action to take {}\".format(action_to_take))\n",
    "print(\"Inference took %.2f ms\" % (elapsed*1000))"
   ]
  }
 ],
 "metadata": {
  "kernelspec": {
   "display_name": "python3-test",
   "language": "python",
   "name": "python3-test"
  },
  "language_info": {
   "codemirror_mode": {
    "name": "ipython",
    "version": 3
   },
   "file_extension": ".py",
   "mimetype": "text/x-python",
   "name": "python",
   "nbconvert_exporter": "python",
   "pygments_lexer": "ipython3",
   "version": "3.6.10"
  }
 },
 "nbformat": 4,
 "nbformat_minor": 4
}
